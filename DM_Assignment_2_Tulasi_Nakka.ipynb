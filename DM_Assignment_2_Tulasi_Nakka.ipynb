{
 "cells": [
  {
   "cell_type": "code",
   "execution_count": 1,
   "id": "c9e97019",
   "metadata": {},
   "outputs": [],
   "source": [
    "import pandas as pd\n",
    "import numpy as np\n",
    "import re\n",
    "from nltk.tokenize import word_tokenize\n",
    "from nltk import pos_tag\n",
    "from nltk.corpus import stopwords\n",
    "from nltk.stem import WordNetLemmatizer\n",
    "from sklearn.preprocessing import LabelEncoder\n",
    "from collections import defaultdict\n",
    "from nltk.corpus import wordnet as wn\n",
    "from sklearn.feature_extraction.text import TfidfVectorizer\n",
    "from sklearn import model_selection, naive_bayes\n",
    "from sklearn.model_selection import train_test_split\n",
    "from sklearn.metrics import accuracy_score\n",
    "from sklearn.metrics import classification_report"
   ]
  },
  {
   "cell_type": "code",
   "execution_count": 2,
   "id": "848d9fca",
   "metadata": {},
   "outputs": [
    {
     "data": {
      "text/html": [
       "<div>\n",
       "<style scoped>\n",
       "    .dataframe tbody tr th:only-of-type {\n",
       "        vertical-align: middle;\n",
       "    }\n",
       "\n",
       "    .dataframe tbody tr th {\n",
       "        vertical-align: top;\n",
       "    }\n",
       "\n",
       "    .dataframe thead th {\n",
       "        text-align: right;\n",
       "    }\n",
       "</style>\n",
       "<table border=\"1\" class=\"dataframe\">\n",
       "  <thead>\n",
       "    <tr style=\"text-align: right;\">\n",
       "      <th></th>\n",
       "      <th>Freshness</th>\n",
       "      <th>Review</th>\n",
       "    </tr>\n",
       "  </thead>\n",
       "  <tbody>\n",
       "    <tr>\n",
       "      <th>0</th>\n",
       "      <td>fresh</td>\n",
       "      <td>Manakamana doesn't answer any questions, yet ...</td>\n",
       "    </tr>\n",
       "    <tr>\n",
       "      <th>1</th>\n",
       "      <td>fresh</td>\n",
       "      <td>Wilfully offensive and powered by a chest-thu...</td>\n",
       "    </tr>\n",
       "    <tr>\n",
       "      <th>2</th>\n",
       "      <td>rotten</td>\n",
       "      <td>It would be difficult to imagine material mor...</td>\n",
       "    </tr>\n",
       "    <tr>\n",
       "      <th>3</th>\n",
       "      <td>rotten</td>\n",
       "      <td>Despite the gusto its star brings to the role...</td>\n",
       "    </tr>\n",
       "    <tr>\n",
       "      <th>4</th>\n",
       "      <td>rotten</td>\n",
       "      <td>If there was a good idea at the core of this ...</td>\n",
       "    </tr>\n",
       "    <tr>\n",
       "      <th>5</th>\n",
       "      <td>rotten</td>\n",
       "      <td>Gleeson goes the Hallmark Channel route, dama...</td>\n",
       "    </tr>\n",
       "    <tr>\n",
       "      <th>6</th>\n",
       "      <td>fresh</td>\n",
       "      <td>It was the height of satire in 1976: dark as ...</td>\n",
       "    </tr>\n",
       "    <tr>\n",
       "      <th>7</th>\n",
       "      <td>rotten</td>\n",
       "      <td>Everyone in \"The Comedian\" deserves a better ...</td>\n",
       "    </tr>\n",
       "    <tr>\n",
       "      <th>8</th>\n",
       "      <td>rotten</td>\n",
       "      <td>Actor encourages grumpy Christians to embrace...</td>\n",
       "    </tr>\n",
       "    <tr>\n",
       "      <th>9</th>\n",
       "      <td>fresh</td>\n",
       "      <td>Slight, contained, but ineffably soulful.</td>\n",
       "    </tr>\n",
       "  </tbody>\n",
       "</table>\n",
       "</div>"
      ],
      "text/plain": [
       "  Freshness                                             Review\n",
       "0     fresh   Manakamana doesn't answer any questions, yet ...\n",
       "1     fresh   Wilfully offensive and powered by a chest-thu...\n",
       "2    rotten   It would be difficult to imagine material mor...\n",
       "3    rotten   Despite the gusto its star brings to the role...\n",
       "4    rotten   If there was a good idea at the core of this ...\n",
       "5    rotten   Gleeson goes the Hallmark Channel route, dama...\n",
       "6     fresh   It was the height of satire in 1976: dark as ...\n",
       "7    rotten   Everyone in \"The Comedian\" deserves a better ...\n",
       "8    rotten   Actor encourages grumpy Christians to embrace...\n",
       "9     fresh          Slight, contained, but ineffably soulful."
      ]
     },
     "execution_count": 2,
     "metadata": {},
     "output_type": "execute_result"
    }
   ],
   "source": [
    "data = pd.read_csv('rt_reviews.csv',encoding='latin-1')\n",
    "df=pd.DataFrame(data)\n",
    "df.head(10)"
   ]
  },
  {
   "cell_type": "markdown",
   "id": "66119b58",
   "metadata": {},
   "source": [
    "## Building Vocabulary"
   ]
  },
  {
   "cell_type": "code",
   "execution_count": 3,
   "id": "85eab166",
   "metadata": {},
   "outputs": [],
   "source": [
    "def vocabulary(text):\n",
    "    #removing the digits and few unnecessary punctuations from our review texts\n",
    "    \n",
    "    text = re.sub('[0-9]',' ', text)\n",
    "    text = re.sub('[^\\\\w\\\\s]',' ', text)\n",
    "    text = text.lower() \n",
    "    v=text.split()\n",
    "    \n",
    "    # Removing Stop Words\n",
    "    stop_words = stopwords.words('english')\n",
    "    i=0\n",
    "    while i<len(v):\n",
    "        if v[i] in stop_words :     \n",
    "            v.pop(i)     \n",
    "            i=0\n",
    "        i+=1\n",
    "    \n",
    "    return v  "
   ]
  },
  {
   "cell_type": "code",
   "execution_count": 4,
   "id": "5d287a0c",
   "metadata": {},
   "outputs": [
    {
     "data": {
      "text/html": [
       "<div>\n",
       "<style scoped>\n",
       "    .dataframe tbody tr th:only-of-type {\n",
       "        vertical-align: middle;\n",
       "    }\n",
       "\n",
       "    .dataframe tbody tr th {\n",
       "        vertical-align: top;\n",
       "    }\n",
       "\n",
       "    .dataframe thead th {\n",
       "        text-align: right;\n",
       "    }\n",
       "</style>\n",
       "<table border=\"1\" class=\"dataframe\">\n",
       "  <thead>\n",
       "    <tr style=\"text-align: right;\">\n",
       "      <th></th>\n",
       "      <th>Freshness</th>\n",
       "      <th>Review</th>\n",
       "      <th>Updated_Review</th>\n",
       "    </tr>\n",
       "  </thead>\n",
       "  <tbody>\n",
       "    <tr>\n",
       "      <th>0</th>\n",
       "      <td>fresh</td>\n",
       "      <td>Manakamana doesn't answer any questions, yet ...</td>\n",
       "      <td>[manakamana, answer, questions, yet, makes, po...</td>\n",
       "    </tr>\n",
       "    <tr>\n",
       "      <th>1</th>\n",
       "      <td>fresh</td>\n",
       "      <td>Wilfully offensive and powered by a chest-thu...</td>\n",
       "      <td>[wilfully, offensive, powered, chest, thumping...</td>\n",
       "    </tr>\n",
       "    <tr>\n",
       "      <th>2</th>\n",
       "      <td>rotten</td>\n",
       "      <td>It would be difficult to imagine material mor...</td>\n",
       "      <td>[would, difficult, imagine, material, wrong, s...</td>\n",
       "    </tr>\n",
       "    <tr>\n",
       "      <th>3</th>\n",
       "      <td>rotten</td>\n",
       "      <td>Despite the gusto its star brings to the role...</td>\n",
       "      <td>[despite, gusto, star, brings, role, hard, rid...</td>\n",
       "    </tr>\n",
       "    <tr>\n",
       "      <th>4</th>\n",
       "      <td>rotten</td>\n",
       "      <td>If there was a good idea at the core of this ...</td>\n",
       "      <td>[there, good, idea, core, film, buried, unsigh...</td>\n",
       "    </tr>\n",
       "    <tr>\n",
       "      <th>5</th>\n",
       "      <td>rotten</td>\n",
       "      <td>Gleeson goes the Hallmark Channel route, dama...</td>\n",
       "      <td>[gleeson, goes, hallmark, channel, route, dama...</td>\n",
       "    </tr>\n",
       "    <tr>\n",
       "      <th>6</th>\n",
       "      <td>fresh</td>\n",
       "      <td>It was the height of satire in 1976: dark as ...</td>\n",
       "      <td>[was, height, satire, dark, hell, patently, ab...</td>\n",
       "    </tr>\n",
       "    <tr>\n",
       "      <th>7</th>\n",
       "      <td>rotten</td>\n",
       "      <td>Everyone in \"The Comedian\" deserves a better ...</td>\n",
       "      <td>[everyone, comedian, deserves, better, movie, ...</td>\n",
       "    </tr>\n",
       "    <tr>\n",
       "      <th>8</th>\n",
       "      <td>rotten</td>\n",
       "      <td>Actor encourages grumpy Christians to embrace...</td>\n",
       "      <td>[actor, encourages, grumpy, christians, embrac...</td>\n",
       "    </tr>\n",
       "    <tr>\n",
       "      <th>9</th>\n",
       "      <td>fresh</td>\n",
       "      <td>Slight, contained, but ineffably soulful.</td>\n",
       "      <td>[slight, contained, ineffably, soulful]</td>\n",
       "    </tr>\n",
       "  </tbody>\n",
       "</table>\n",
       "</div>"
      ],
      "text/plain": [
       "  Freshness                                             Review  \\\n",
       "0     fresh   Manakamana doesn't answer any questions, yet ...   \n",
       "1     fresh   Wilfully offensive and powered by a chest-thu...   \n",
       "2    rotten   It would be difficult to imagine material mor...   \n",
       "3    rotten   Despite the gusto its star brings to the role...   \n",
       "4    rotten   If there was a good idea at the core of this ...   \n",
       "5    rotten   Gleeson goes the Hallmark Channel route, dama...   \n",
       "6     fresh   It was the height of satire in 1976: dark as ...   \n",
       "7    rotten   Everyone in \"The Comedian\" deserves a better ...   \n",
       "8    rotten   Actor encourages grumpy Christians to embrace...   \n",
       "9     fresh          Slight, contained, but ineffably soulful.   \n",
       "\n",
       "                                      Updated_Review  \n",
       "0  [manakamana, answer, questions, yet, makes, po...  \n",
       "1  [wilfully, offensive, powered, chest, thumping...  \n",
       "2  [would, difficult, imagine, material, wrong, s...  \n",
       "3  [despite, gusto, star, brings, role, hard, rid...  \n",
       "4  [there, good, idea, core, film, buried, unsigh...  \n",
       "5  [gleeson, goes, hallmark, channel, route, dama...  \n",
       "6  [was, height, satire, dark, hell, patently, ab...  \n",
       "7  [everyone, comedian, deserves, better, movie, ...  \n",
       "8  [actor, encourages, grumpy, christians, embrac...  \n",
       "9            [slight, contained, ineffably, soulful]  "
      ]
     },
     "execution_count": 4,
     "metadata": {},
     "output_type": "execute_result"
    }
   ],
   "source": [
    "# Perform preprocessing on each row of the text data \n",
    "updated_text = []\n",
    "for index, row in df.iterrows():\n",
    "    updated_text.append(vocabulary(row['Review']))\n",
    "df['Updated_Review'] = updated_text\n",
    "# visualize dataframe after adding 'preprocessed_Text' column\n",
    "df.head(10)"
   ]
  },
  {
   "cell_type": "markdown",
   "id": "4a5468fc",
   "metadata": {},
   "source": [
    "## Splitting Data"
   ]
  },
  {
   "cell_type": "code",
   "execution_count": 5,
   "id": "28a606ef",
   "metadata": {},
   "outputs": [],
   "source": [
    "# Split Data in to Train (80%),Test(15%), Validation (15%) \n",
    "\n",
    "X_train, X_test, y_train, y_test = train_test_split(df,df['Freshness'] ,test_size=0.2, random_state=1)\n",
    "\n",
    "X_test, X_dev, y_test, y_dev = train_test_split(X_test,X_test['Freshness'] ,test_size=0.5, random_state=1)\n"
   ]
  },
  {
   "cell_type": "code",
   "execution_count": 6,
   "id": "8704e430",
   "metadata": {},
   "outputs": [],
   "source": [
    "# get unique words in the dataset\n",
    "word_set=set()\n",
    "for index, row in X_train.iterrows():           #unique collections of words in a set to avoid repetitions\n",
    "    word_set.update(row['Updated_Review'])"
   ]
  },
  {
   "cell_type": "code",
   "execution_count": 7,
   "id": "3b947f83",
   "metadata": {},
   "outputs": [
    {
     "name": "stdout",
     "output_type": "stream",
     "text": [
      "rotten: 191876\n",
      "fresh: 192124\n"
     ]
    }
   ],
   "source": [
    "unique_training_types = list(y_train.unique())\n",
    "#print(unique_training_types)\n",
    "dict_types = {}\n",
    "for class_type in unique_training_types:\n",
    "    dict_types[class_type] = sum(y_train == class_type)\n",
    "\n",
    "for key_type, count in dict_types.items():\n",
    "    print(key_type + \": \" + str(count))\n",
    "  \n"
   ]
  },
  {
   "cell_type": "markdown",
   "id": "a10eafa2",
   "metadata": {},
   "source": [
    "## Data Visualization"
   ]
  },
  {
   "cell_type": "code",
   "execution_count": 8,
   "id": "8d1d9cc4",
   "metadata": {},
   "outputs": [
    {
     "name": "stdout",
     "output_type": "stream",
     "text": [
      "dict_values([191876, 192124])\n"
     ]
    },
    {
     "data": {
      "image/png": "[encoded data removed]",
      "text/plain": [
       "<Figure size 640x480 with 1 Axes>"
      ]
     },
     "metadata": {},
     "output_type": "display_data"
    }
   ],
   "source": [
    "import numpy as np \n",
    "import matplotlib.pyplot as plt \n",
    "labels = dict_types.keys()\n",
    "count = dict_types.values()\n",
    "print(count)\n",
    "# Plot\n",
    "plt.pie(count, labels=labels, \n",
    "        autopct='%0.2f%%', shadow=True, startangle=100, colors=['pink',  'orange'])\n",
    "#plt.axis('equal')\n",
    "plt.show()"
   ]
  },
  {
   "cell_type": "code",
   "execution_count": 9,
   "id": "cec59bcf",
   "metadata": {},
   "outputs": [],
   "source": [
    "#using set to find the each occurence of word\n",
    "Fresh=set()                 \n",
    "Rotten=set()\n",
    "\n",
    "for index, row in X_train.iterrows(): \n",
    "    if row['Freshness']=='fresh':\n",
    "        words=row['Updated_Review']   # pre-processed column\n",
    "        Fresh.update(words)\n",
    "\n",
    "    elif row['Freshness']=='rotten':\n",
    "        words=row['Updated_Review']\n",
    "        Rotten.update(words)\n"
   ]
  },
  {
   "cell_type": "markdown",
   "id": "28223c50",
   "metadata": {},
   "source": [
    "## Calculating frequency of each word"
   ]
  },
  {
   "cell_type": "code",
   "execution_count": 10,
   "id": "63e89300",
   "metadata": {},
   "outputs": [],
   "source": [
    "# Checking frequency of a word for each class type\n",
    "dict_Fresh={}\n",
    "dict_Rotten={}           \n",
    "\n",
    "for word in Fresh:\n",
    "    dict_Fresh[word]=0\n",
    "for word in Rotten:\n",
    "    dict_Rotten[word]=0  \n",
    "\n",
    "    #frequencies\n",
    "for index, row in X_train.iterrows(): \n",
    "    if row['Freshness']=='fresh':\n",
    "        words=row['Updated_Review']          \n",
    "        for word_dict in words:\n",
    "              dict_Fresh[word_dict]+=1\n",
    "\n",
    "    elif row['Freshness']=='rotten':\n",
    "        words=row['Updated_Review']          \n",
    "        for word_dict in words:\n",
    "              dict_Rotten[word_dict]+=1\n",
    "#print(dict_Fresh)\n"
   ]
  },
  {
   "cell_type": "code",
   "execution_count": 11,
   "id": "aaccfae2",
   "metadata": {},
   "outputs": [],
   "source": [
    "labels=set()\n",
    "for index,row in X_train.iterrows():\n",
    "    labels.add(row['Freshness'])"
   ]
  },
  {
   "cell_type": "markdown",
   "id": "b5b54002",
   "metadata": {},
   "source": [
    "## Naive_Bayes function to calculate the probabilities and generate reports"
   ]
  },
  {
   "cell_type": "code",
   "execution_count": 12,
   "id": "8ef2a75a",
   "metadata": {},
   "outputs": [],
   "source": [
    "def Naive_Bayes( X= X_test, Y = y_test, smoothing=False, alpha=0.01):\n",
    "    \n",
    "# Code for calculating prior probabilities\n",
    "    if smoothing == True:\n",
    "        alpha=alpha\n",
    "    else:\n",
    "        alpha= 0\n",
    "    \n",
    "    Freshness_count={}   # dictionary to store total class occurances for each class\n",
    "    for  label_type in labels:\n",
    "        count=0\n",
    "        for index,row in X_train.iterrows():\n",
    "            if label_type==row['Freshness']:\n",
    "                count+=1\n",
    "        Freshness_count[label_type]=count\n",
    "\n",
    "    print('*******************************RESULTS WHEN ALPHA=',alpha,'*****************************************')\n",
    "    \n",
    "    prior_Fresh= (Freshness_count['fresh'])/len(X_train)\n",
    "    prior_Rotten= (Freshness_count['rotten'])/len(X_train)\n",
    "    \n",
    "    print(\"Fresh=\",prior_Fresh)\n",
    "    print(\"Rotten=\", prior_Rotten )\n",
    "    \n",
    "    \n",
    "# code for conditional probability for each class\n",
    "    \n",
    "    #summing up the total number of words in each Type\n",
    "    total_Fresh_words = 0\n",
    "    total_Rotten_words = 0\n",
    "    \n",
    "    for key,values in dict_Fresh.items():\n",
    "        total_Fresh_words = total_Fresh_words+values\n",
    "    for key,values in dict_Rotten.items():\n",
    "        total_Rotten_words = total_Rotten_words+values\n",
    "        \n",
    "    # Conditional probabilites of each word\n",
    "    cond_Fresh = {}\n",
    "    cond_Rotten = {}\n",
    "    \n",
    "    for word in dict_Fresh:\n",
    "        cond_Fresh[word] = dict_Fresh[word]/total_Fresh_words\n",
    "    for word in dict_Rotten:\n",
    "        cond_Rotten[word] = dict_Rotten[word]/total_Rotten_words\n",
    "    \n",
    "\n",
    "    #use Laplace smoothing if word is not present\n",
    "    k = len(word_set)\n",
    "    for word in word_set:\n",
    "        if word not in Fresh:\n",
    "            cond_Fresh[word]=alpha/(total_Fresh_words+alpha*k)\n",
    "        if word not in Rotten:                   \n",
    "            cond_Rotten[word]=alpha/(total_Rotten_words+alpha*k)\n",
    "        \n",
    "\n",
    "# Code for posterior probabilities\n",
    "    \n",
    "    pred_test_label = []\n",
    "    for index,row in X.iterrows():\n",
    "        test_words=row['Updated_Review']\n",
    "        \n",
    "        # zero-frequency condition so add a laplace smoothing\n",
    "        k = len(test_words)\n",
    "        for word in test_words:\n",
    "            if word not in word_set:\n",
    "                cond_Fresh[word]=alpha/(total_Fresh_words+alpha*k)\n",
    "                cond_Rotten[word]=alpha/(total_Rotten_words+alpha*k)\n",
    "                \n",
    "        # product\n",
    "        posterior_Fresh=1\n",
    "        posterior_Rotten=1\n",
    "    \n",
    "        for word in test_words:\n",
    "            posterior_Fresh*=cond_Fresh[word]\n",
    "            posterior_Rotten*=cond_Rotten[word]\n",
    "            \n",
    "        # multiplicating likelihood probabilities with prior\n",
    "        posterior_Fresh=posterior_Fresh*prior_Fresh/(1)\n",
    "        posterior_Rotten=posterior_Rotten*prior_Rotten/(1)  \n",
    "\n",
    "        dict_label = []\n",
    "        dict_label.append(posterior_Fresh)\n",
    "        dict_label.append(posterior_Rotten)\n",
    "        \n",
    "        # checking the max argument\n",
    "        idx = dict_label.index(max(dict_label))\n",
    "        labels_list = ['fresh','rotten']\n",
    "        pred_test_label.append(labels_list[idx])\n",
    "        \n",
    "# Result Analysis Report\n",
    "    print(classification_report(Y, pred_test_label))\n"
   ]
  },
  {
   "cell_type": "markdown",
   "id": "8a6a694c",
   "metadata": {},
   "source": [
    "## No smoothing applied on validation data"
   ]
  },
  {
   "cell_type": "code",
   "execution_count": 13,
   "id": "3d747919",
   "metadata": {},
   "outputs": [
    {
     "name": "stdout",
     "output_type": "stream",
     "text": [
      "*******************************RESULTS WHEN ALPHA= 0 *****************************************\n",
      "Fresh= 0.5003229166666666\n",
      "Rotten= 0.4996770833333333\n",
      "              precision    recall  f1-score   support\n",
      "\n",
      "       fresh       0.79      0.80      0.80     24053\n",
      "      rotten       0.80      0.79      0.79     23947\n",
      "\n",
      "    accuracy                           0.79     48000\n",
      "   macro avg       0.79      0.79      0.79     48000\n",
      "weighted avg       0.79      0.79      0.79     48000\n",
      "\n"
     ]
    }
   ],
   "source": [
    "# without smoothing\n",
    "Naive_Bayes(X = X_dev, Y = y_dev, smoothing=False)"
   ]
  },
  {
   "cell_type": "markdown",
   "id": "ea4ead27",
   "metadata": {},
   "source": [
    "## For smoothing values 0.01,0.1,1 on validation data"
   ]
  },
  {
   "cell_type": "code",
   "execution_count": 14,
   "id": "988c55f5",
   "metadata": {},
   "outputs": [
    {
     "name": "stdout",
     "output_type": "stream",
     "text": [
      "*******************************RESULTS WHEN ALPHA= 0.01 *****************************************\n",
      "Fresh= 0.5003229166666666\n",
      "Rotten= 0.4996770833333333\n",
      "              precision    recall  f1-score   support\n",
      "\n",
      "       fresh       0.81      0.79      0.80     24053\n",
      "      rotten       0.79      0.82      0.80     23947\n",
      "\n",
      "    accuracy                           0.80     48000\n",
      "   macro avg       0.80      0.80      0.80     48000\n",
      "weighted avg       0.80      0.80      0.80     48000\n",
      "\n",
      "*******************************RESULTS WHEN ALPHA= 0.1 *****************************************\n",
      "Fresh= 0.5003229166666666\n",
      "Rotten= 0.4996770833333333\n",
      "              precision    recall  f1-score   support\n",
      "\n",
      "       fresh       0.81      0.79      0.80     24053\n",
      "      rotten       0.79      0.82      0.81     23947\n",
      "\n",
      "    accuracy                           0.80     48000\n",
      "   macro avg       0.80      0.80      0.80     48000\n",
      "weighted avg       0.80      0.80      0.80     48000\n",
      "\n",
      "*******************************RESULTS WHEN ALPHA= 1 *****************************************\n",
      "Fresh= 0.5003229166666666\n",
      "Rotten= 0.4996770833333333\n",
      "              precision    recall  f1-score   support\n",
      "\n",
      "       fresh       0.81      0.79      0.80     24053\n",
      "      rotten       0.79      0.82      0.80     23947\n",
      "\n",
      "    accuracy                           0.80     48000\n",
      "   macro avg       0.80      0.80      0.80     48000\n",
      "weighted avg       0.80      0.80      0.80     48000\n",
      "\n"
     ]
    }
   ],
   "source": [
    "# with Laplace smoothing tuning of hyper paprameters\n",
    "Naive_Bayes(X = X_dev, Y = y_dev, smoothing=True, alpha=0.01)\n",
    "Naive_Bayes(X = X_dev, Y = y_dev, smoothing=True, alpha=0.1)\n",
    "Naive_Bayes(X = X_dev, Y = y_dev, smoothing=True, alpha=1)"
   ]
  },
  {
   "cell_type": "markdown",
   "id": "6d6526e4",
   "metadata": {},
   "source": [
    "## Further experimenting on smoothing values 0.001,10,100,1000"
   ]
  },
  {
   "cell_type": "code",
   "execution_count": 15,
   "id": "677d59c6",
   "metadata": {},
   "outputs": [
    {
     "name": "stdout",
     "output_type": "stream",
     "text": [
      "*******************************RESULTS WHEN ALPHA= 0.001 *****************************************\n",
      "Fresh= 0.5003229166666666\n",
      "Rotten= 0.4996770833333333\n",
      "              precision    recall  f1-score   support\n",
      "\n",
      "       fresh       0.81      0.78      0.80     24053\n",
      "      rotten       0.79      0.82      0.80     23947\n",
      "\n",
      "    accuracy                           0.80     48000\n",
      "   macro avg       0.80      0.80      0.80     48000\n",
      "weighted avg       0.80      0.80      0.80     48000\n",
      "\n",
      "*******************************RESULTS WHEN ALPHA= 10 *****************************************\n",
      "Fresh= 0.5003229166666666\n",
      "Rotten= 0.4996770833333333\n",
      "              precision    recall  f1-score   support\n",
      "\n",
      "       fresh       0.79      0.77      0.78     24053\n",
      "      rotten       0.77      0.79      0.78     23947\n",
      "\n",
      "    accuracy                           0.78     48000\n",
      "   macro avg       0.78      0.78      0.78     48000\n",
      "weighted avg       0.78      0.78      0.78     48000\n",
      "\n",
      "*******************************RESULTS WHEN ALPHA= 100 *****************************************\n",
      "Fresh= 0.5003229166666666\n",
      "Rotten= 0.4996770833333333\n",
      "              precision    recall  f1-score   support\n",
      "\n",
      "       fresh       0.77      0.75      0.76     24053\n",
      "      rotten       0.76      0.78      0.77     23947\n",
      "\n",
      "    accuracy                           0.77     48000\n",
      "   macro avg       0.77      0.77      0.77     48000\n",
      "weighted avg       0.77      0.77      0.77     48000\n",
      "\n",
      "*******************************RESULTS WHEN ALPHA= 1000 *****************************************\n",
      "Fresh= 0.5003229166666666\n",
      "Rotten= 0.4996770833333333\n",
      "              precision    recall  f1-score   support\n",
      "\n",
      "       fresh       0.77      0.75      0.76     24053\n",
      "      rotten       0.76      0.77      0.76     23947\n",
      "\n",
      "    accuracy                           0.76     48000\n",
      "   macro avg       0.76      0.76      0.76     48000\n",
      "weighted avg       0.76      0.76      0.76     48000\n",
      "\n"
     ]
    }
   ],
   "source": [
    "# Laplace smoothing tuning of hyper paprameters\n",
    "Naive_Bayes(X = X_dev, Y = y_dev, smoothing=True, alpha=0.001)\n",
    "Naive_Bayes(X = X_dev, Y = y_dev, smoothing=True, alpha=10)\n",
    "Naive_Bayes(X = X_dev, Y = y_dev, smoothing=True, alpha=100)\n",
    "Naive_Bayes(X = X_dev, Y = y_dev, smoothing=True, alpha=1000)\n"
   ]
  },
  {
   "cell_type": "markdown",
   "id": "a4a473e9",
   "metadata": {},
   "source": [
    "## Test Accuracy"
   ]
  },
  {
   "cell_type": "code",
   "execution_count": 34,
   "id": "dbf40107",
   "metadata": {},
   "outputs": [
    {
     "name": "stdout",
     "output_type": "stream",
     "text": [
      "*******************************RESULTS WHEN ALPHA= 1.0 *****************************************\n",
      "Fresh= 0.5003229166666666\n",
      "Rotten= 0.4996770833333333\n",
      "              precision    recall  f1-score   support\n",
      "\n",
      "       fresh       0.81      0.79      0.80     23823\n",
      "      rotten       0.80      0.81      0.81     24177\n",
      "\n",
      "    accuracy                           0.80     48000\n",
      "   macro avg       0.80      0.80      0.80     48000\n",
      "weighted avg       0.80      0.80      0.80     48000\n",
      "\n",
      "Test accuracy\n"
     ]
    }
   ],
   "source": [
    "# Highest accuracy observed at a =0.1\n",
    "# Using best 'a' value on val data to perform inference on test data\n",
    "Naive_Bayes(X = X_test, Y = y_test, smoothing=True, alpha=1.0)"
   ]
  },
  {
   "cell_type": "markdown",
   "id": "55bdc5d0",
   "metadata": {},
   "source": [
    "## Fetching Top 10 words"
   ]
  },
  {
   "cell_type": "code",
   "execution_count": 35,
   "id": "7e5784eb",
   "metadata": {},
   "outputs": [
    {
     "name": "stdout",
     "output_type": "stream",
     "text": [
      "The Top 10 Words are\n",
      "{'film': 34382, 'movie': 27294, 'one': 17412, 'like': 16859, 's': 12002, 'story': 11330, 'much': 11012, 'even': 8822, 'good': 8413, 'best': 8105}\n"
     ]
    }
   ],
   "source": [
    "import itertools \n",
    "\n",
    "# create list of dictionaries for all classes\n",
    "dicts = [dict_Fresh, dict_Rotten]\n",
    "\n",
    "# find common keys in all classes\n",
    "similarity = set(dict_Fresh.keys())\n",
    "\n",
    "for d in dicts:\n",
    "    similarity.intersection_update(set(d.keys()))\n",
    "\n",
    "similar_dict = {}\n",
    "similarity = list(similarity)\n",
    "#print(common_keys)\n",
    "\n",
    "# find the highest frequency of common keys accross all classes\n",
    "for word in similarity:\n",
    "    high_prob = 0\n",
    "    for d in dicts:\n",
    "        if(d[word]>high_prob):\n",
    "            similar_dict[word] = d[word]\n",
    "#print(similar_dict)\n",
    "\n",
    "# Create a dictionary of common keys and highest frequency of that key across classes\n",
    "similar_dict = {}\n",
    "similarity = list(similarity)\n",
    "for word in similarity:\n",
    "    val_list = []\n",
    "    val_list.append(dicts[0][word])\n",
    "    val_list.append(dicts[1][word])    \n",
    "    similar_dict[word] = max(val_list)\n",
    "\n",
    "# sort dictionary based on frequency of key word\n",
    "top_words = dict(sorted(similar_dict.items(), key=lambda item: item[1], reverse=True))\n",
    "# print top 10 words\n",
    "top_10_words = dict(itertools.islice(top_words.items(), 10)) \n",
    "print('The Top 10 Words are')\n",
    "print(top_10_words)"
   ]
  },
  {
   "cell_type": "markdown",
   "id": "0b1b1341",
   "metadata": {},
   "source": [
    "## Comparison of effect of smoothing"
   ]
  },
  {
   "cell_type": "code",
   "execution_count": 33,
   "id": "f110da29",
   "metadata": {},
   "outputs": [
    {
     "name": "stderr",
     "output_type": "stream",
     "text": [
      "No handles with labels found to put in legend.\n"
     ]
    },
    {
     "data": {
      "image/png": "[encoded data removed]",
      "text/plain": [
       "<Figure size 640x480 with 1 Axes>"
      ]
     },
     "metadata": {},
     "output_type": "display_data"
    }
   ],
   "source": [
    "import numpy as np \n",
    "import matplotlib.pyplot as plt \n",
    "  \n",
    "# Here 'alpha=None' is without smoothing\n",
    "X = ['α=0','α=1','α=0.1','α=0.01', 'α=10','α=100','α=1000']\n",
    "accuracies = [0.79,0.80,0.80,0.80,0.78,0.77,0.76]\n",
    "  \n",
    "X_axis = np.arange(len(X))\n",
    "\n",
    "plt.bar(X_axis,  accuracies, 0.4,  label = None)\n",
    "\n",
    "  \n",
    "plt.xticks(X_axis, X)\n",
    "plt.xlabel(\"Alpha Value for Laplace Smoothing\")\n",
    "plt.ylabel(\"Accuracy\")\n",
    "plt.title(\"Comparing Erffect of Smoothing\")\n",
    "plt.legend()\n",
    "plt.show()\n",
    "\n"
   ]
  },
  {
   "cell_type": "code",
   "execution_count": null,
   "id": "6a8c6ad5",
   "metadata": {},
   "outputs": [],
   "source": []
  },
  {
   "cell_type": "code",
   "execution_count": null,
   "id": "871bb62d",
   "metadata": {},
   "outputs": [],
   "source": []
  },
  {
   "cell_type": "code",
   "execution_count": null,
   "id": "80f2133b",
   "metadata": {},
   "outputs": [],
   "source": []
  }
 ],
 "metadata": {
  "kernelspec": {
   "display_name": "Python 3 (ipykernel)",
   "language": "python",
   "name": "python3"
  },
  "language_info": {
   "codemirror_mode": {
    "name": "ipython",
    "version": 3
   },
   "file_extension": ".py",
   "mimetype": "text/x-python",
   "name": "python",
   "nbconvert_exporter": "python",
   "pygments_lexer": "ipython3",
   "version": "3.9.7"
  }
 },
 "nbformat": 4,
 "nbformat_minor": 5
}
